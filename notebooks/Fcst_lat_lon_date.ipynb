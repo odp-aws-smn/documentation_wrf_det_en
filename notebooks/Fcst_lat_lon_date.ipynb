{
  "nbformat": 4,
  "nbformat_minor": 0,
  "metadata": {
    "colab": {
      "name": "Fcst_lat_lon_date.ipynb",
      "provenance": []
    },
    "kernelspec": {
      "name": "python3",
      "display_name": "Python 3"
    },
    "language_info": {
      "name": "python"
    }
  },
  "cells": [
    {
      "cell_type": "markdown",
      "source": [
        "# Forecast for a given latitude, longitude and date"
      ],
      "metadata": {
        "id": "WvlRTI7dYXl7"
      }
    },
    {
      "cell_type": "markdown",
      "source": [
        "In this example we show how to obtain the forecast of a specific variable (2-meter temperature for example) for a given latitude, longitude and date."
      ],
      "metadata": {
        "id": "6GT8o95_bFYE"
      }
    },
    {
      "cell_type": "code",
      "execution_count": null,
      "metadata": {
        "id": "9SwjG2XSYAjL"
      },
      "outputs": [],
      "source": [
        "# We import the necessary libraries\n",
        "import xarray as xr\n",
        "import h5netcdf\n",
        "import datetime\n",
        "import s3fs\n",
        "import cartopy.crs as ccrs"
      ]
    },
    {
      "cell_type": "markdown",
      "source": [
        "We define the starting date of the forecast, the desired forecast time, latitude and longitude (March 21, 2022 00 UTC; March 22, 2022 17 UTC; -25; -70):"
      ],
      "metadata": {
        "id": "f7JhNwCSY1Zt"
      }
    },
    {
      "cell_type": "code",
      "source": [
        "latitude = -25\n",
        "longitude = -70\n",
        "\n",
        "start_year = 2022\n",
        "start_month = 3\n",
        "start_day = 21\n",
        "start_hour = 0\n",
        "\n",
        "fcst_year = 2022\n",
        "fcst_month = 3\n",
        "fcst_day = 22\n",
        "fcst_hour = 17"
      ],
      "metadata": {
        "id": "e9ZILfqzYPx4"
      },
      "execution_count": null,
      "outputs": []
    },
    {
      "cell_type": "markdown",
      "source": [
        "We define the variable to plot:"
      ],
      "metadata": {
        "id": "gXLhVITAcIma"
      }
    },
    {
      "cell_type": "code",
      "source": [
        "var = 'T2'"
      ],
      "metadata": {
        "id": "qlIf9IhrcKhQ"
      },
      "execution_count": null,
      "outputs": []
    },
    {
      "cell_type": "markdown",
      "source": [
        "We read the file containing the information we are looking for:"
      ],
      "metadata": {
        "id": "6nGRtnZ6amdZ"
      }
    },
    {
      "cell_type": "code",
      "source": [
        "START_DATE = datetime.datetime(start_year, start_month, start_day, start_hour)\n",
        "FCST_DATE = datetime.datetime(fcst_year, fcst_month, fcst_day, fcst_hour)\n",
        "\n",
        "# Getting the forecast lead time:\n",
        "lead_time = int((FCST_DATE - START_DATE).total_seconds()/3600)\n",
        "\n",
        "s3_file = f'smn-ar-wrf/DATA/WRF/DET/{START_DATE:%Y/%m/%d/%H}/WRFDETAR_01H_{START_DATE:%Y%m%d_%H}_{lead_time:03d}.nc'\n",
        "\n",
        "fs = s3fs.S3FileSystem(anon=True)\n",
        "\n",
        "if fs.exists(s3_file):\n",
        "    f = fs.open(s3_file)\n",
        "    ds = xr.open_dataset(f, decode_coords = 'all', engine = 'h5netcdf')\n",
        "else:\n",
        "    print('The file does not exist')"
      ],
      "metadata": {
        "id": "qlKJwkxkcO4n"
      },
      "execution_count": null,
      "outputs": []
    },
    {
      "cell_type": "markdown",
      "source": [
        "\n",
        "We get the appropriate forecast value:"
      ],
      "metadata": {
        "id": "-DHk6lUE3kmY"
      }
    },
    {
      "cell_type": "code",
      "source": [
        "# Searching the closest gridpoint to the selected lat-lon \n",
        "data_crs = ccrs.LambertConformal(central_longitude = ds.CEN_LON, \n",
        "                                 central_latitude = ds.CEN_LAT, \n",
        "                                 standard_parallels = (ds.TRUELAT1, ds.TRUELAT2))\n",
        "x, y = data_crs.transform_point(longitude, latitude, src_crs=ccrs.PlateCarree())\n",
        "\n",
        "# Extraction of the value at the chosen gridpoint\n",
        "forecast = ds.sel(dict(x = x, y = y, time = FCST_DATE), method = 'nearest')[var]\n",
        "\n",
        "print(f'The forecast value for the variable {var} at latitude {latitude} and longitude {longitude} is: {forecast.values:0.2f}')"
      ],
      "metadata": {
        "colab": {
          "base_uri": "https://localhost:8080/",
          "height": 235
        },
        "id": "CpAum8a1as6r",
        "outputId": "249e4a4a-8fe1-4dc5-910c-15368337e8a4"
      },
      "execution_count": null,
      "outputs": [
        {
          "output_type": "error",
          "ename": "NameError",
          "evalue": "ignored",
          "traceback": [
            "\u001b[0;31m---------------------------------------------------------------------------\u001b[0m",
            "\u001b[0;31mNameError\u001b[0m                                 Traceback (most recent call last)",
            "\u001b[0;32m<ipython-input-1-983532ba68a3>\u001b[0m in \u001b[0;36m<module>\u001b[0;34m()\u001b[0m\n\u001b[1;32m      1\u001b[0m \u001b[0;31m# Searching the closest gridpoint to the selected lat-lon\u001b[0m\u001b[0;34m\u001b[0m\u001b[0;34m\u001b[0m\u001b[0;34m\u001b[0m\u001b[0m\n\u001b[0;32m----> 2\u001b[0;31m data_crs = ccrs.LambertConformal(central_longitude = ds.CEN_LON, \n\u001b[0m\u001b[1;32m      3\u001b[0m                                  \u001b[0mcentral_latitude\u001b[0m \u001b[0;34m=\u001b[0m \u001b[0mds\u001b[0m\u001b[0;34m.\u001b[0m\u001b[0mCEN_LAT\u001b[0m\u001b[0;34m,\u001b[0m\u001b[0;34m\u001b[0m\u001b[0;34m\u001b[0m\u001b[0m\n\u001b[1;32m      4\u001b[0m                                  standard_parallels = (ds.TRUELAT1, ds.TRUELAT2))\n\u001b[1;32m      5\u001b[0m \u001b[0mx\u001b[0m\u001b[0;34m,\u001b[0m \u001b[0my\u001b[0m \u001b[0;34m=\u001b[0m \u001b[0mdata_crs\u001b[0m\u001b[0;34m.\u001b[0m\u001b[0mtransform_point\u001b[0m\u001b[0;34m(\u001b[0m\u001b[0mlongitude\u001b[0m\u001b[0;34m,\u001b[0m \u001b[0mlatitude\u001b[0m\u001b[0;34m,\u001b[0m \u001b[0msrc_crs\u001b[0m\u001b[0;34m=\u001b[0m\u001b[0mccrs\u001b[0m\u001b[0;34m.\u001b[0m\u001b[0mPlateCarree\u001b[0m\u001b[0;34m(\u001b[0m\u001b[0;34m)\u001b[0m\u001b[0;34m)\u001b[0m\u001b[0;34m\u001b[0m\u001b[0;34m\u001b[0m\u001b[0m\n",
            "\u001b[0;31mNameError\u001b[0m: name 'ccrs' is not defined"
          ]
        }
      ]
    }
  ]
}