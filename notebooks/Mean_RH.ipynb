{
  "nbformat": 4,
  "nbformat_minor": 0,
  "metadata": {
    "colab": {
      "provenance": []
    },
    "kernelspec": {
      "name": "python3",
      "display_name": "Python 3"
    },
    "language_info": {
      "name": "python"
    }
  },
  "cells": [
    {
      "cell_type": "markdown",
      "source": [
        "# Campo de humedad relativa media diaria"
      ],
      "metadata": {
        "id": "JcCSIySx-9bb"
      }
    },
    {
      "cell_type": "markdown",
      "source": [
        "(Última actualización 1 jun 2023)\n",
        "\n",
        "Ejemplo para el cálculo de la humedad relativa media en una subregión. <br />\n",
        "*Example of the mean relative humidity field over a user-defined subregion.*"
      ],
      "metadata": {
        "id": "4TCZkTka9XPh"
      }
    },
    {
      "cell_type": "code",
      "execution_count": null,
      "metadata": {
        "id": "l8v7JE649UIu"
      },
      "outputs": [],
      "source": [
        "# Importamos las librerías necesarias  (en caso de ser necesario, instalar utilizando el comando pip install)\n",
        "# We import the necessary libraries    (if needed, install by using the command pip install)\n",
        "import xarray as xr\n",
        "import h5netcdf\n",
        "import datetime\n",
        "import s3fs\n",
        "import cartopy.crs as ccrs\n",
        "import cartopy.feature as cf\n",
        "import matplotlib.pyplot as plt\n",
        "import regionmask\n",
        "!pip install --no-binary shapely shapely --force\n"
      ]
    },
    {
      "cell_type": "markdown",
      "source": [
        "Definimos la fecha y hora de inicialización del pronóstico: <br />\n",
        "*We define the forecast initialization date:* "
      ],
      "metadata": {
        "id": "mCAScVvX_TOF"
      }
    },
    {
      "cell_type": "code",
      "source": [
        "init_year = 2022\n",
        "init_month = 4\n",
        "init_day = 1\n",
        "init_hour = 0\n",
        "INIT_DATE = datetime.datetime(init_year, init_month, init_day, init_hour)"
      ],
      "metadata": {
        "id": "_of3OsQq_JSo"
      },
      "execution_count": null,
      "outputs": []
    },
    {
      "cell_type": "markdown",
      "source": [
        "Definimos el periodo de tiempo sobre el cual se calcula la humedad relativa media: <br />\n",
        "*We define the averaging period for relative humidity:*"
      ],
      "metadata": {
        "id": "VwOjzIznLhWp"
      }
    },
    {
      "cell_type": "code",
      "source": [
        "start_lead_time = 0\n",
        "end_lead_time = 4"
      ],
      "metadata": {
        "id": "C4Z6ZuAWL0X-"
      },
      "execution_count": null,
      "outputs": []
    },
    {
      "cell_type": "markdown",
      "source": [
        "Definimos la región a graficar: <br />\n",
        "*We define the region of interest (using lat and lon):*"
      ],
      "metadata": {
        "id": "lOrhCvQS_q8F"
      }
    },
    {
      "cell_type": "code",
      "source": [
        "lat_min = -60\n",
        "lat_max = -30\n",
        "lon_min = -80\n",
        "lon_max = -60"
      ],
      "metadata": {
        "id": "vkgS74lZ_kRK"
      },
      "execution_count": null,
      "outputs": []
    },
    {
      "cell_type": "markdown",
      "source": [
        "Leemos los pronósticos: <br />\n",
        "*We read the forecasts:*"
      ],
      "metadata": {
        "id": "PgbCmOEA_uHG"
      }
    },
    {
      "cell_type": "code",
      "source": [
        "# Descomentar la opción elegida:\n",
        "\n",
        "# --------\n",
        "# Opción 1: Para acceder al archivo online\n",
        "# Option 1: To access files online\n",
        "fs = s3fs.S3FileSystem(anon=True)\n",
        "files = [f'smn-ar-wrf/DATA/WRF/DET/{INIT_DATE:%Y/%m/%d/%H}/WRFDETAR_01H_{INIT_DATE:%Y%m%d_%H}_{fhr:03d}.nc' for fhr in range(start_lead_time, end_lead_time)]\n",
        "ds_list = []\n",
        "for s3_file in files:\n",
        "    print(s3_file)\n",
        "    if fs.exists(s3_file):\n",
        "        f = fs.open(s3_file)\n",
        "        ds_tmp = xr.open_dataset(f, decode_coords = 'all', engine = 'h5netcdf')\n",
        "        ds_list.append(ds_tmp)\n",
        "    else:\n",
        "        print('The file {} does not exist'.format(s3_file))\n",
        "# --------\n",
        "\n",
        "# --------\n",
        "# Opción 2: Para abrir los archivos ya descargados\n",
        "# Option 2: To open the already downloaded files\n",
        "#files = ['WRFDETAR_01H_{:%Y%m%d_%H}_{:03d}.nc'.format(INIT_DATE,lead_time) for lead_time in range(start_lead_time, end_lead_time)]\n",
        "#print(files)\n",
        "#ds_list = []\n",
        "#for filename in files:\n",
        "#    print(filename)\n",
        "#    ds_tmp = xr.open_dataset(filename, decode_coords = 'all', engine = 'h5netcdf')\n",
        "#    ds_list.append(ds_tmp)\n",
        "\n",
        "# Combinamos los archivos en un unico dataset\n",
        "# We combine all the files in one dataset\n",
        "ds = xr.combine_by_coords(ds_list, combine_attrs = 'drop_conflicts')\n",
        "# --------\n"
      ],
      "metadata": {
        "id": "dzGpTfw2_Fbh"
      },
      "execution_count": null,
      "outputs": []
    },
    {
      "cell_type": "markdown",
      "source": [
        "Seleccionamos los datos pertenecientes a la región y se calcula la humedad relativa media diaria: <br />\n",
        "*We select the data of the chose subdomain and we compute the mean value:*\n",
        "\n",
        "\n"
      ],
      "metadata": {
        "id": "DGrsgbiVAMJn"
      }
    },
    {
      "cell_type": "code",
      "source": [
        "corners = [[lon_min, lat_min], [lon_min, lat_max], [lon_max, lat_max], [lon_max, lat_min]]\n",
        "\n",
        "# Armamos la máscara de la región\n",
        "# We build the mask defining the region  \n",
        "region = regionmask.Regions([corners])\n",
        "mask = region.mask(ds['lon'], ds['lat'])\n",
        "\n",
        "# Seleccionamos la variable HR2 y se calcula el valor medio diario\n",
        "# We select the variable HR2 and compute the daily mean at each gridpoint\n",
        "var = 'HR2'\n",
        "HR = ds[[var]]\n",
        "HR_mean = HR.mean(dim = 'time')\n",
        "\n",
        "# Aplicamos la máscara eliminando los valores por fuera de ésta\n",
        "# We eliminate the values outside the mask \n",
        "HR_region = HR_mean.where(mask == 0, drop = True)"
      ],
      "metadata": {
        "id": "vflOePA3_ghN"
      },
      "execution_count": null,
      "outputs": []
    },
    {
      "cell_type": "markdown",
      "source": [
        "Generamos la figura: <br />\n",
        "*We generate the plot:*"
      ],
      "metadata": {
        "id": "EgQXF9_XXMC6"
      }
    },
    {
      "cell_type": "code",
      "source": [
        "# Seleccionamos la proyección de los datos\n",
        "# We chose a map projection\n",
        "projection = ccrs.LambertConformal(central_longitude = ds['Lambert_Conformal'].attrs['longitude_of_central_meridian'], \n",
        "                                 central_latitude = ds['Lambert_Conformal'].attrs['latitude_of_projection_origin'], \n",
        "                                 standard_parallels = ds['Lambert_Conformal'].attrs['standard_parallel'])\n",
        "fig = plt.figure(figsize = (10, 8)) \n",
        "ax = plt.axes(projection = projection)\n",
        "cbar = ax.pcolormesh(HR_region['lon'], HR_region['lat'], HR_region['HR2'], transform = ccrs.PlateCarree(), vmin = 0, vmax = 100)\n",
        "ax.add_feature(cf.COASTLINE) # add coastlines\n",
        "ax.add_feature(cf.BORDERS)   # add country borders\n",
        "ax.set_title(f'Mean Relative Humidity [%]')\n",
        "\n",
        "gl = ax.gridlines(crs = ccrs.PlateCarree(), draw_labels = True, x_inline = False,\n",
        "                  linewidth = 2, color = 'gray', alpha = 0.5, linestyle = '--')\n",
        "gl.top_labels = False\n",
        "gl.right_labels = False\n",
        "plt.colorbar(cbar)"
      ],
      "metadata": {
        "id": "TOdgs8mJBkHX"
      },
      "execution_count": null,
      "outputs": []
    }
  ]
}