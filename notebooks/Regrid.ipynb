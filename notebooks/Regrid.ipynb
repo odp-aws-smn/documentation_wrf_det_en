{
  "cells": [
    {
      "cell_type": "markdown",
      "id": "2d857022",
      "metadata": {
        "id": "2d857022"
      },
      "source": [
        "# Interpolación a retícula regular"
      ]
    },
    {
      "cell_type": "markdown",
      "id": "138fa71b",
      "metadata": {
        "id": "138fa71b"
      },
      "source": [
        "(Última actualización 1 jun 2023)\n",
        "\n",
        "En esta notebook mostramos cómo transformar los datos que se encuentran en la proyección Conforme de Lambert a una proyección cilíndrica de modo que queden en una retícula regular.<br />\n",
        "*We  show an example of how to transform a dataset that is in a Lambert conformal projection to a regular grid (equirectangular projection).*"
      ]
    },
    {
      "cell_type": "code",
      "source": [
        "# En caso de utilizar Google Colab, descomentar las siguientes líneas\n",
        "\n",
        "#!pip install -q condacolab\n",
        "#import condacolab\n",
        "#condacolab.install()\n",
        "#!conda install -c conda-forge xesmf \"esmpy<8.4\" pandas=1.4"
      ],
      "metadata": {
        "id": "rte6AFb3kZF-"
      },
      "id": "rte6AFb3kZF-",
      "execution_count": null,
      "outputs": []
    },
    {
      "cell_type": "code",
      "execution_count": 2,
      "id": "f6bd0056",
      "metadata": {
        "id": "f6bd0056"
      },
      "outputs": [],
      "source": [
        "# Importamos las librerías necesarias\n",
        "# We import the necesssary libraries\n",
        "import xarray as xr\n",
        "import h5netcdf\n",
        "import datetime\n",
        "import xesmf as xe \n",
        "# Importante: La librería xesmf tiene problemas para instarla en una notebook de Google Colab \n",
        "# Important: The xesmf library has problems when installing it on a Google Colab notebook."
      ]
    },
    {
      "cell_type": "markdown",
      "id": "47b460d9",
      "metadata": {
        "id": "47b460d9"
      },
      "source": [
        "Definimos la fecha de inicialización y el plazo de pronóstico a interpolar:<br />\n",
        "*We define the forecast initialization date and the desired forecast lead time:*\n"
      ]
    },
    {
      "cell_type": "code",
      "execution_count": 8,
      "id": "3ace92d0",
      "metadata": {
        "id": "3ace92d0"
      },
      "outputs": [],
      "source": [
        "init_year = 2023\n",
        "init_month = 4\n",
        "init_day = 1\n",
        "init_hour = 0\n",
        "INIT_DATE = datetime.datetime(init_year, init_month, init_day, init_hour)\n",
        "\n",
        "lead_time = 12"
      ]
    },
    {
      "cell_type": "markdown",
      "id": "243b48fe",
      "metadata": {
        "id": "243b48fe"
      },
      "source": [
        "Leemos el archivo que posee el dato buscado:<br />\n",
        "*We read the file containing the information we are looking for:*"
      ]
    },
    {
      "cell_type": "code",
      "execution_count": null,
      "id": "cc21a1dc",
      "metadata": {
        "id": "cc21a1dc"
      },
      "outputs": [],
      "source": [
        "# Descomentar la opción elegida:\n",
        "\n",
        "# --------\n",
        "# Opción 1: Para acceder a los archivos online\n",
        "# Option 1: To access files online\n",
        "! pip install s3fs\n",
        "import s3fs\n",
        "s3_file = f'smn-ar-wrf/DATA/WRF/DET/{INIT_DATE:%Y/%m/%d/%H}/WRFDETAR_01H_{INIT_DATE:%Y%m%d_%H}_{lead_time:03d}.nc'\n",
        "fs = s3fs.S3FileSystem(anon=True)\n",
        "if fs.exists(s3_file):\n",
        "    f = fs.open(s3_file)\n",
        "    ds = xr.open_dataset(f, decode_coords = 'all', engine = 'h5netcdf')\n",
        "else:\n",
        "    print('The file does not exist')\n",
        "# --------\n",
        "\n",
        "# --------\n",
        "# Opción 2: Para abrir un archivo ya descargado\n",
        "# Option 2: To open an already downloaded file\n",
        "#filename = '/content/drive/MyDrive/ColabNotebooks/20220401_files/WRFDETAR_01H_{:%Y%m%d_%H}_{:03d}.nc'.format(INIT_DATE,lead_time)\n",
        "#print(filename)\n",
        "#ds = xr.open_dataset(filename, decode_coords = 'all', engine = 'h5netcdf')\n",
        "# --------"
      ]
    },
    {
      "cell_type": "markdown",
      "id": "69efd6c5",
      "metadata": {
        "id": "69efd6c5"
      },
      "source": [
        "Definimos la nueva retícula a la que se quiere interpolar:<br />\n",
        "*We define the target regular grid:*"
      ]
    },
    {
      "cell_type": "code",
      "execution_count": 13,
      "id": "35dcf23f",
      "metadata": {
        "id": "35dcf23f"
      },
      "outputs": [],
      "source": [
        "resolution_lat = 0.1\n",
        "resolution_lon = 0.1\n",
        "lat_min = -56\n",
        "lat_max = -19\n",
        "lon_min = -76\n",
        "lon_max = -48\n",
        "\n",
        "new_grid = xe.util.grid_2d(lon_min - resolution_lon/2, lon_max, resolution_lon, \n",
        "                           lat_min - resolution_lat/2, lat_max, resolution_lat)"
      ]
    },
    {
      "cell_type": "markdown",
      "id": "f5bad046",
      "metadata": {
        "id": "f5bad046"
      },
      "source": [
        "Realizamos la interpolación:<br />\n",
        "*We performe the interpolation:*"
      ]
    },
    {
      "cell_type": "code",
      "execution_count": 15,
      "id": "cdbdfa57",
      "metadata": {
        "id": "cdbdfa57",
        "colab": {
          "base_uri": "https://localhost:8080/"
        },
        "outputId": "8aa2e21c-0094-40ce-ee34-6d9eb4e574cb"
      },
      "outputs": [
        {
          "output_type": "stream",
          "name": "stdout",
          "text": [
            "<xarray.Dataset>\n",
            "Dimensions:            (time: 1, y: 370, x: 280)\n",
            "Coordinates:\n",
            "  * time               (time) datetime64[ns] 2023-04-01T12:00:00\n",
            "    Lambert_Conformal  object ...\n",
            "    lat                (y, x) float64 -56.0 -56.0 -56.0 ... -19.1 -19.1 -19.1\n",
            "    lon                (y, x) float64 -76.0 -75.9 -75.8 ... -48.3 -48.2 -48.1\n",
            "Dimensions without coordinates: y, x\n",
            "Data variables:\n",
            "    PP                 (time, y, x) float32 0.0235 0.003517 ... 0.0 0.0\n",
            "    T2                 (time, y, x) float32 5.836 5.955 6.022 ... 23.48 23.71\n",
            "    PSFC               (time, y, x) float32 988.3 988.3 988.3 ... 915.2 909.8\n",
            "    TSLB               (time, y, x) float32 0.01001 0.01001 ... 22.35 21.95\n",
            "    SMOIS              (time, y, x) float32 1.0 1.0 1.0 ... 0.23 0.228 0.2166\n",
            "    ACLWDNB            (time, y, x) float32 1.423e+07 1.427e+07 ... 1.578e+07\n",
            "    ACLWUPB            (time, y, x) float32 1.491e+07 1.491e+07 ... 1.776e+07\n",
            "    ACSWDNB            (time, y, x) float32 2.178e+04 2.788e+04 ... 2.711e+06\n",
            "    HR2                (time, y, x) float32 88.85 89.89 89.52 ... 75.32 72.43\n",
            "    dirViento10        (time, y, x) float32 275.5 271.8 268.9 ... 179.1 179.5\n",
            "    magViento10        (time, y, x) float32 7.756 7.279 6.595 ... 2.855 3.026\n",
            "Attributes: (12/13)\n",
            "    title:          Python PostProcessing for SMN WRF-ARW\n",
            "    institution:    Servicio Meteorologico Nacional\n",
            "    source:          OUTPUT FROM WRF V4.0 MODEL\n",
            "    min_lat:        -56.853172\n",
            "    min_lon:        -94.33081\n",
            "    max_lat:        -11.645958\n",
            "    ...             ...\n",
            "    MAP_PROJ:       Lambert Conformal\n",
            "    DX:             4000.0\n",
            "    DY:             4000.0\n",
            "    START_DATE:     2023-04-01 00:00:00\n",
            "    Conventions:    CF-1.8\n",
            "    regrid_method:  bilinear\n"
          ]
        }
      ],
      "source": [
        "regridder = xe.Regridder(ds, new_grid, 'bilinear')\n",
        "ds_interpolated = regridder(ds, keep_attrs = True)\n",
        "print(ds_interpolated)"
      ]
    }
  ],
  "metadata": {
    "kernelspec": {
      "display_name": "Python 3 (ipykernel)",
      "language": "python",
      "name": "python3"
    },
    "language_info": {
      "codemirror_mode": {
        "name": "ipython",
        "version": 3
      },
      "file_extension": ".py",
      "mimetype": "text/x-python",
      "name": "python",
      "nbconvert_exporter": "python",
      "pygments_lexer": "ipython3",
      "version": "3.9.11"
    },
    "colab": {
      "provenance": []
    }
  },
  "nbformat": 4,
  "nbformat_minor": 5
}