{
  "cells": [
    {
      "cell_type": "markdown",
      "id": "2d857022",
      "metadata": {
        "id": "2d857022"
      },
      "source": [
        "# Interpolation to a regular grid "
      ]
    },
    {
      "cell_type": "markdown",
      "id": "138fa71b",
      "metadata": {
        "id": "138fa71b"
      },
      "source": [
        "We  show an example of how to transform a dataset that is in a Lambert conformal projection to a regular grid (equirectangular projection)."
      ]
    },
    {
      "cell_type": "code",
      "execution_count": null,
      "id": "f6bd0056",
      "metadata": {
        "id": "f6bd0056"
      },
      "outputs": [],
      "source": [
        "# We import the necesssary libraries\n",
        "import xarray as xr\n",
        "import h5netcdf\n",
        "import datetime\n",
        "import s3fs\n",
        "import xesmf as xe"
      ]
    },
    {
      "cell_type": "markdown",
      "id": "47b460d9",
      "metadata": {
        "id": "47b460d9"
      },
      "source": [
        "We define the forecast initialization date and the desired forecast time:\n"
      ]
    },
    {
      "cell_type": "code",
      "execution_count": null,
      "id": "3ace92d0",
      "metadata": {
        "id": "3ace92d0"
      },
      "outputs": [],
      "source": [
        "start_year = 2022\n",
        "start_month = 3\n",
        "start_day = 21\n",
        "start_hour = 0\n",
        "\n",
        "fcst_year = 2022\n",
        "fcst_month = 3\n",
        "fcst_day = 21\n",
        "fcst_hour = 17"
      ]
    },
    {
      "cell_type": "markdown",
      "id": "243b48fe",
      "metadata": {
        "id": "243b48fe"
      },
      "source": [
        "We read the file containing the information we are looking for:"
      ]
    },
    {
      "cell_type": "code",
      "execution_count": null,
      "id": "cc21a1dc",
      "metadata": {
        "id": "cc21a1dc"
      },
      "outputs": [],
      "source": [
        "FCST_DATE = datetime.datetime(start_year, start_month, start_day, start_hour)\n",
        "START_DATE = datetime.datetime(start_year, start_month, start_day, start_hour)\n",
        "\n",
        "# Getting the forecast lead time:\n",
        "leadtime = int((FCST_DATE - START_DATE).total_seconds()/3600)\n",
        "\n",
        "s3_file = f'smn-ar-wrf/DATA/WRF/DET/{START_DATE:%Y/%m/%d/%H}/WRFDETAR_01H_{START_DATE:%Y%m%d_%H}_{leadtime:03d}.nc'\n",
        "\n",
        "fs = s3fs.S3FileSystem(anon=True)\n",
        "\n",
        "if fs.exists(s3_file):\n",
        "    f = fs.open(s3_file)\n",
        "    ds = xr.open_dataset(f, decode_coords = 'all', engine = 'h5netcdf')\n",
        "else:\n",
        "    print('The file does not exist')"
      ]
    },
    {
      "cell_type": "markdown",
      "id": "69efd6c5",
      "metadata": {
        "id": "69efd6c5"
      },
      "source": [
        "We define the target regular grid:"
      ]
    },
    {
      "cell_type": "code",
      "execution_count": null,
      "id": "35dcf23f",
      "metadata": {
        "id": "35dcf23f"
      },
      "outputs": [],
      "source": [
        "resolution_lat = 0.1\n",
        "resolution_lon = 0.1\n",
        "lat_min = -56\n",
        "lat_max = -19\n",
        "lon_min = -76\n",
        "lon_max = -48\n",
        "\n",
        "new_grid = xe.util.grid_2d(lon_min - resolution_lon/2, lon_max, resolution_lon, \n",
        "                           lat_min - resolution_lat/2, lat_max, resolution_lat)\n"
      ]
    },
    {
      "cell_type": "markdown",
      "id": "f5bad046",
      "metadata": {
        "id": "f5bad046"
      },
      "source": [
        "Interpolation procedure:"
      ]
    },
    {
      "cell_type": "code",
      "execution_count": null,
      "id": "cdbdfa57",
      "metadata": {
        "id": "cdbdfa57"
      },
      "outputs": [],
      "source": [
        "regridder = xe.Regridder(ds, new_grid, 'bilinear')\n",
        "ds_interpolated = regridder(ds, keep_attrs = True)"
      ]
    }
  ],
  "metadata": {
    "kernelspec": {
      "display_name": "Python 3 (ipykernel)",
      "language": "python",
      "name": "python3"
    },
    "language_info": {
      "codemirror_mode": {
        "name": "ipython",
        "version": 3
      },
      "file_extension": ".py",
      "mimetype": "text/x-python",
      "name": "python",
      "nbconvert_exporter": "python",
      "pygments_lexer": "ipython3",
      "version": "3.9.11"
    },
    "colab": {
      "name": "Regrid.ipynb",
      "provenance": []
    }
  },
  "nbformat": 4,
  "nbformat_minor": 5
}