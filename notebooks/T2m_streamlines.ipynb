{
  "nbformat": 4,
  "nbformat_minor": 0,
  "metadata": {
    "colab": {
      "provenance": []
    },
    "kernelspec": {
      "name": "python3",
      "display_name": "Python 3"
    },
    "language_info": {
      "name": "python"
    }
  },
  "cells": [
    {
      "cell_type": "markdown",
      "source": [
        "# Campo de temperatura a 2m y líneas de corriente "
      ],
      "metadata": {
        "id": "ZjA_z_AwG8SE"
      }
    },
    {
      "cell_type": "markdown",
      "source": [
        "(Última actualización 10 abr 2023)\n",
        "\n",
        "Ejemplo para graficar un campo de temperatura a 2m y líneas de corriente. <br />\n",
        "*Example to plot a 2-m temperatura and streamlines.*[texto del enlace](https://)"
      ],
      "metadata": {
        "id": "4TCZkTka9XPh"
      }
    },
    {
      "cell_type": "code",
      "source": [
        "# En caso de utilizar Google colab, descomentar las siguientes líneas\n",
        "\n",
        "#!pip install numpy==1.24  \n",
        "#!pip install --no-binary shapely shapely --force\n",
        "#!pip install h5netcdf\n",
        "#!pip install s3fs\n",
        "#!pip install cartopy\n",
        "#!pip install metpy"
      ],
      "metadata": {
        "id": "zIqnUYURKTI7"
      },
      "execution_count": null,
      "outputs": []
    },
    {
      "cell_type": "code",
      "execution_count": 2,
      "metadata": {
        "id": "l8v7JE649UIu"
      },
      "outputs": [],
      "source": [
        "# Importamos las librerías necesarias  (en caso de ser necesario, instalar utilizando el comando pip install)\n",
        "# We import the necessary libraries    (if needed, install by using the command pip install)\n",
        "import xarray as xr\n",
        "import h5netcdf\n",
        "import datetime\n",
        "import s3fs\n",
        "import cartopy.crs as ccrs\n",
        "import cartopy.feature as cf\n",
        "import matplotlib.pyplot as plt\n",
        "import metpy.calc as mpcalc"
      ]
    },
    {
      "cell_type": "markdown",
      "source": [
        "Definimos la fecha y hora de inicialización del pronóstico: <br />\n",
        "*We define the forecast initialization date:* "
      ],
      "metadata": {
        "id": "mCAScVvX_TOF"
      }
    },
    {
      "cell_type": "code",
      "source": [
        "init_year = 2022\n",
        "init_month = 4\n",
        "init_day = 1\n",
        "init_hour = 0\n",
        "INIT_DATE = datetime.datetime(init_year, init_month, init_day, init_hour)"
      ],
      "metadata": {
        "id": "_of3OsQq_JSo"
      },
      "execution_count": 4,
      "outputs": []
    },
    {
      "cell_type": "markdown",
      "source": [
        "Definimos el plazo de pronóstico a graficar: <br />\n",
        "*We define the forecast lead time to plot:*"
      ],
      "metadata": {
        "id": "VwOjzIznLhWp"
      }
    },
    {
      "cell_type": "code",
      "source": [
        "lead_time = 12"
      ],
      "metadata": {
        "id": "C4Z6ZuAWL0X-"
      },
      "execution_count": 10,
      "outputs": []
    },
    {
      "cell_type": "markdown",
      "source": [
        "Leemos el archivo: <br />\n",
        "*We read the file:*"
      ],
      "metadata": {
        "id": "PgbCmOEA_uHG"
      }
    },
    {
      "cell_type": "code",
      "source": [
        "filename = 'WRFDETAR_01H_{:%Y%m%d_%H}_{:03d}.nc'.format(INIT_DATE,lead_time) \n",
        "print(filename)\n",
        "ds = xr.open_dataset(filename, decode_coords = 'all', engine = 'h5netcdf')"
      ],
      "metadata": {
        "id": "dzGpTfw2_Fbh"
      },
      "execution_count": null,
      "outputs": []
    },
    {
      "cell_type": "markdown",
      "source": [
        "Calculamos las componentes zonal y meridional del viento a 10m: <br />\n",
        "*We calculate the zonal and meridional components of 10-m wind:*\n",
        "\n",
        "\n"
      ],
      "metadata": {
        "id": "DGrsgbiVAMJn"
      }
    },
    {
      "cell_type": "code",
      "source": [
        "u, v = mpcalc.wind_components(ds['magViento10'], ds['dirViento10'])\n",
        "\n",
        "u = u.metpy.dequantify()\n",
        "v = v.metpy.dequantify()"
      ],
      "metadata": {
        "id": "vflOePA3_ghN"
      },
      "execution_count": 22,
      "outputs": []
    },
    {
      "cell_type": "markdown",
      "source": [
        "Generamos la figura: <br />\n",
        "*We generate the plot:*"
      ],
      "metadata": {
        "id": "EgQXF9_XXMC6"
      }
    },
    {
      "cell_type": "code",
      "source": [
        "# Seleccionamos la proyección de los datos\n",
        "# We chose a map projection\n",
        "projection = ccrs.LambertConformal(central_longitude = ds['Lambert_Conformal'].attrs['longitude_of_central_meridian'], \n",
        "                                 central_latitude = ds['Lambert_Conformal'].attrs['latitude_of_projection_origin'], \n",
        "                                 standard_parallels = ds['Lambert_Conformal'].attrs['standard_parallel'], cutoff = -5)\n",
        "\n",
        "fig, ax = plt.subplots(1, 1, figsize = (7, 10), constrained_layout = True, subplot_kw = {'projection': projection})\n",
        "ax.set_extent(extents=[-500*4000, 500*4000, -600*4000, 600*4000], crs = projection)\n",
        "cs = ax.pcolormesh(ds['lon'], ds['lat'], ds['T2'][0, :, :], vmin = -15, vmax = 30, cmap = 'inferno', transform = ccrs.PlateCarree())\n",
        "strm = ax.streamplot(ds['lon'].values, ds['lat'].values, u[0, :, :].values, v[0, :, :].values, density = [1.5, 1.5], color = 'white', linewidth = 0.75, transform = ccrs.PlateCarree())\n",
        "ax.add_feature(cf.COASTLINE)\n",
        "ax.add_feature(cf.BORDERS)\n",
        "ax.set_title(f'2-m Temperature and Streamlines')\n",
        "gl = ax.gridlines(crs = ccrs.PlateCarree(), draw_labels = True, x_inline = False,\n",
        "                  linewidth = 2, color = 'gray', alpha = 0.5, linestyle = '--')\n",
        "gl.top_labels = False\n",
        "gl.right_labels = False\n",
        "cbar = plt.colorbar(cs, shrink = 0.6)\n",
        "cbar.set_label('[°C]', rotation=90)\n",
        "plt.show()"
      ],
      "metadata": {
        "id": "TOdgs8mJBkHX"
      },
      "execution_count": null,
      "outputs": []
    }
  ]
}